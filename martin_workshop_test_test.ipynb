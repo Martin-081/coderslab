{
 "cells": [
  {
   "cell_type": "code",
   "execution_count": 76,
   "metadata": {},
   "outputs": [],
   "source": [
    "import pandas as pd\n",
    "\n",
    "# Nahrání CSV\n",
    "df = pd.read_csv('zdrojova_data_sreality.csv')\n",
    "\n",
    "# Zobrazení prvních 5\n",
    "# print(df.head().to_markdown(index=False, numalign=\"left\", stralign=\"left\"))\n"
   ]
  },
  {
   "cell_type": "code",
   "execution_count": 77,
   "metadata": {},
   "outputs": [],
   "source": [
    "# Rozdělení sloupce `Lokace` na `Ulice` a `Město`\n",
    "df[['Ulice', 'Město']] = df['Lokace'].str.split(', ', expand=True)\n",
    "\n",
    "# Odstranění sloupce `Lokace`\n",
    "df = df.drop(columns=['Lokace'])"
   ]
  },
  {
   "cell_type": "code",
   "execution_count": 78,
   "metadata": {},
   "outputs": [],
   "source": [
    "# Odstranění nečíselných znaků ze sloupce `Cena`, kromě desetinné čárky '.'\n",
    "df['Cena'] = df['Cena'].astype(str).str.replace('[^0-9.]', '', regex=True)\n",
    "\n",
    "# Převod sloupce `Cena` na číselný formát\n",
    "df['Cena'] = pd.to_numeric(df['Cena'])\n",
    "\n",
    "# Zobrazení prvních 5 řádků\n",
    "# print(df.head().to_markdown(index=False, numalign=\"left\", stralign=\"left\"))"
   ]
  },
  {
   "cell_type": "code",
   "execution_count": 79,
   "metadata": {},
   "outputs": [],
   "source": [
    "# Přejmenování sloupců\n",
    "df = df.rename(columns={'Cena': 'Cena (Kč)', 'Rozměry bytu': 'Rozměry bytu (m2)'})\n",
    "\n",
    "\n",
    "# Zobrazení prvních 5 řádků\n",
    "# print(df.head().to_markdown(index=False, numalign=\"left\", stralign=\"left\"))"
   ]
  },
  {
   "cell_type": "code",
   "execution_count": 80,
   "metadata": {},
   "outputs": [],
   "source": [
    "# Filtrování dat, kde `Město` je pouze \"Zlín\"\n",
    "df = df[df['Město'] == 'Zlín']"
   ]
  },
  {
   "cell_type": "code",
   "execution_count": 81,
   "metadata": {},
   "outputs": [],
   "source": [
    "# Vypočítám průměrnou cenu pro kompozici bytu 1+kk\n",
    "average_cena_1kk = df[df['Kompozice bytu'] == '1+kk']['Cena (Kč)'].mean()\n",
    "\n",
    "# Nahradím nan hodnoty v `Cena (Kč)` průměrnou cenou pro položky'1+kk'\n",
    "df.loc[(df['Kompozice bytu'] == '1+kk') & (df['Cena (Kč)'].isnull()), 'Cena (Kč)'] = average_cena_1kk\n",
    "\n",
    "# print(df.head(160).to_markdown(index=False, numalign=\"left\", stralign=\"left\"))\n"
   ]
  },
  {
   "cell_type": "code",
   "execution_count": 82,
   "metadata": {},
   "outputs": [],
   "source": [
    "#  Ve sloupci \"Kompozice bytu\" jsou nějaké nerelevantní hodnoty - neukazují kompozici bytu - a kompozice bytu (1+kk) je uvedena v \"Rozměry bytu\"\n",
    "# print(df['Kompozice bytu'].unique())\n",
    "# print(df['Rozměry bytu (m2)'].unique())"
   ]
  },
  {
   "cell_type": "code",
   "execution_count": 83,
   "metadata": {},
   "outputs": [],
   "source": [
    "# Prohození hodnot v `Kompozice bytu` a `Rozměry bytu (m2)` pro řádky, kde `Kompozice bytu` obsahuje hodnotu 'bytu'\n",
    "df.loc[df['Kompozice bytu'] == 'bytu', ['Kompozice bytu', 'Rozměry bytu (m2)']] = df.loc[df['Kompozice bytu'] == 'bytu', ['Rozměry bytu (m2)', 'Kompozice bytu']].values\n",
    "\n",
    "# print(df.head(160).to_markdown(index=False, numalign=\"left\", stralign=\"left\"))\n"
   ]
  },
  {
   "cell_type": "code",
   "execution_count": 84,
   "metadata": {},
   "outputs": [],
   "source": [
    "# Nahrazení 'bytu' průměrnou hodnotou `Rozměry bytu (m2)` pro `Kompozice bytu` '1+kk'\n",
    "df['Rozměry bytu (m2)'] = df['Rozměry bytu (m2)'].replace('bytu', df[(df['Kompozice bytu'] == '1+kk') & (df['Rozměry bytu (m2)']!= 'bytu')]['Rozměry bytu (m2)'].astype(int).mean())\n",
    "\n",
    "# print(df.head(160).to_markdown(index=False, numalign=\"left\", stralign=\"left\"))\n",
    "\n",
    "# print(df.info())\n"
   ]
  },
  {
   "cell_type": "code",
   "execution_count": 85,
   "metadata": {},
   "outputs": [],
   "source": [
    "# Bude potřeba přetypovat ´Rozměry bytu´ a´Cena bytu´ na integer, abych s nimi mohl dále pracovat\n",
    "df['Rozměry bytu (m2)'] = df['Rozměry bytu (m2)'].astype('int64')\n",
    "df['Cena (Kč)'] = df['Cena (Kč)'].astype('int64')\n",
    "\n",
    "# print(df.info())"
   ]
  },
  {
   "cell_type": "code",
   "execution_count": 86,
   "metadata": {},
   "outputs": [
    {
     "name": "stdout",
     "output_type": "stream",
     "text": [
      "Průměrná Cena (Kč): 14480.84\n",
      "\n",
      "Průměrná Cena (Kč) podle Kompozice bytu:\n",
      "| Kompozice bytu   | Cena (Kč)   |\n",
      "|:-----------------|:------------|\n",
      "| 1+1              | 10145.5     |\n",
      "| 1+kk             | 11414.1     |\n",
      "| 2+1              | 13465.4     |\n",
      "| 2+kk             | 16838.5     |\n",
      "| 3+1              | 16670.8     |\n",
      "| 3+kk             | 21000       |\n",
      "| 4+1              | 20000       |\n",
      "| pokoje           | 3854        |\n",
      "\n",
      "Průměrné Rozměry bytu (m2) podle Kompozice bytu:\n",
      "| Kompozice bytu   | Rozměry bytu (m2)   |\n",
      "|:-----------------|:--------------------|\n",
      "| 1+1              | 33.4545             |\n",
      "| 1+kk             | 29.1875             |\n",
      "| 2+1              | 56.7692             |\n",
      "| 2+kk             | 57.8462             |\n",
      "| 3+1              | 73.5                |\n",
      "| 3+kk             | 85                  |\n",
      "| 4+1              | 81                  |\n",
      "| pokoje           | 101.5               |\n",
      "\n",
      "Top 5 Ulic s nejvyšší průměrnou Cenou (Kč):\n",
      "| Ulice           | Cena (Kč)   |\n",
      "|:----------------|:------------|\n",
      "| Na Honech I     | 25000       |\n",
      "| Lešetín I       | 20500       |\n",
      "| Bartošova       | 20000       |\n",
      "| Slezská         | 19000       |\n",
      "| Tyršovo nábřeží | 18000       |\n",
      "\n",
      "Nejčastější Kompozice bytu:\n",
      "| Kompozice bytu   | count   |\n",
      "|:-----------------|:--------|\n",
      "| 2+kk             | 26      |\n",
      "\n",
      "Inzerce bytů dražší než 20 000 Kč:\n",
      "| Unnamed: 0   | Odkaz                   | Cena (Kč)   | Kompozice bytu   | Rozměry bytu (m2)   | Ulice             | Město   |\n",
      "|:-------------|:------------------------|:------------|:-----------------|:--------------------|:------------------|:--------|\n",
      "| 8            | https://www.sreality.cz | 25000       | 2+kk             | 96                  | Lešetín I         | Zlín    |\n",
      "| 62           | https://www.sreality.cz | 29000       | 3+kk             | 95                  | třída Tomáše Bati | Zlín    |\n",
      "| 72           | https://www.sreality.cz | 21000       | 4+1              | 83                  | Slunečná          | Zlín    |\n",
      "| 118          | https://www.sreality.cz | 25000       | 3+kk             | 75                  | Na Honech I       | Zlín    |\n",
      "| 119          | https://www.sreality.cz | 25000       | 2+kk             | 111                 | Smetanova         | Zlín    |\n",
      "\n",
      "Minimální a maximální inzerce pro každou kompozici bytu:\n",
      "| Kompozice bytu   | min   | max   |\n",
      "|:-----------------|:------|:------|\n",
      "| 1+1              | 4200  | 13500 |\n",
      "| 1+kk             | 8500  | 13500 |\n",
      "| 2+1              | 10000 | 16500 |\n",
      "| 2+kk             | 12000 | 25000 |\n",
      "| 3+1              | 11900 | 19000 |\n",
      "| 3+kk             | 14000 | 29000 |\n",
      "| 4+1              | 19000 | 21000 |\n",
      "| pokoje           | 3708  | 4000  |\n",
      "\n",
      "Kompozice bytu s největším rozptylem ceny:\n",
      "| Kompozice bytu   | min   | max   | Rozptyl   |\n",
      "|:-----------------|:------|:------|:----------|\n",
      "| 3+kk             | 14000 | 29000 | 15000     |\n"
     ]
    },
    {
     "data": {
      "image/png": "[encoded data removed]",
      "text/plain": [
       "<Figure size 1000x600 with 1 Axes>"
      ]
     },
     "metadata": {},
     "output_type": "display_data"
    }
   ],
   "source": [
    "# Vypočítá a vypíše průměrnou `Cena (Kč)`\n",
    "prumer_cena = df['Cena (Kč)'].mean()\n",
    "print(f\"Průměrná Cena (Kč): {prumer_cena:.2f}\")\n",
    "\n",
    "# Seskupí podle `Kompozice bytu` a vypočítá průměrnou `Cena (Kč)`\n",
    "prumer_cena_kompozice = df.groupby('Kompozice bytu')['Cena (Kč)'].mean()\n",
    "print(\"\\nPrůměrná Cena (Kč) podle Kompozice bytu:\")\n",
    "print(prumer_cena_kompozice.to_markdown(numalign=\"left\", stralign=\"left\"))\n",
    "\n",
    "# Seskupí podle `Kompozice bytu` a vypočítá průměrné `Rozměry bytu (m2)`\n",
    "prumer_rozmery_kompozice = df.groupby('Kompozice bytu')['Rozměry bytu (m2)'].mean()\n",
    "print(\"\\nPrůměrné Rozměry bytu (m2) podle Kompozice bytu:\")\n",
    "print(prumer_rozmery_kompozice.to_markdown(numalign=\"left\", stralign=\"left\"))\n",
    "\n",
    "# Seskupí podle `Ulice` a vypočítá průměrnou `Cena (Kč)`\n",
    "prumer_cena_ulice = df.groupby('Ulice')['Cena (Kč)'].mean()\n",
    "top_5_ulice = prumer_cena_ulice.sort_values(ascending=False).head(5)\n",
    "print(\"\\nTop 5 Ulic s nejvyšší průměrnou Cenou (Kč):\")\n",
    "print(top_5_ulice.to_markdown(numalign=\"left\", stralign=\"left\"))\n",
    "\n",
    "# Spočítá výskyty každé `Kompozice bytu` a najde nejčastější\n",
    "caste_kompozice = df['Kompozice bytu'].value_counts().head(1)\n",
    "print(\"\\nNejčastější Kompozice bytu:\")\n",
    "print(caste_kompozice.to_markdown(numalign=\"left\", stralign=\"left\"))\n",
    "\n",
    "# Vyfiltruje záznamy, kde `Cena (Kč)` je větší než 20 000\n",
    "drazsi_byty = df[df['Cena (Kč)'] > 20000]\n",
    "print(\"\\nInzerce bytů dražší než 20 000 Kč:\")\n",
    "print(drazsi_byty.to_markdown(index=False, numalign=\"left\", stralign=\"left\"))\n",
    "\n",
    "# Seskupí podle `Kompozice bytu` a vypočítá minimální a maximální `Cena (Kč)`\n",
    "min_max_cena_kompozice = df.groupby('Kompozice bytu')['Cena (Kč)'].agg(['min', 'max'])\n",
    "print(\"\\nMinimální a maximální inzerce pro každou kompozici bytu:\")\n",
    "print(min_max_cena_kompozice.to_markdown(numalign=\"left\", stralign=\"left\"))\n",
    "\n",
    "# Vypočítá rozptyl (range) pro každou `Kompozice bytu`\n",
    "min_max_cena_kompozice['Rozptyl'] = min_max_cena_kompozice['max'] - min_max_cena_kompozice['min']\n",
    "kompozice_nejvetsi_rozptyl = min_max_cena_kompozice.sort_values('Rozptyl', ascending=False).head(1)\n",
    "print(\"\\nKompozice bytu s největším rozptylem ceny:\")\n",
    "print(kompozice_nejvetsi_rozptyl.to_markdown(numalign=\"left\", stralign=\"left\"))\n",
    "\n",
    "# Graf\n",
    "\n",
    "import matplotlib.pyplot as plt\n",
    "\n",
    "\n",
    "plt.figure(figsize=(10, 6))\n",
    "plt.bar(prumer_cena_kompozice.index, prumer_cena_kompozice.values)\n",
    "plt.xlabel('Kompozice bytu')\n",
    "plt.ylabel('Průměrná cena (Kč)')\n",
    "plt.title('Průměrná cena bytu podle kompozice')\n",
    "plt.xticks(rotation=45, ha='right')\n",
    "plt.tight_layout()\n",
    "plt.show()"
   ]
  }
 ],
 "metadata": {
  "kernelspec": {
   "display_name": "base",
   "language": "python",
   "name": "python3"
  },
  "language_info": {
   "codemirror_mode": {
    "name": "ipython",
    "version": 3
   },
   "file_extension": ".py",
   "mimetype": "text/x-python",
   "name": "python",
   "nbconvert_exporter": "python",
   "pygments_lexer": "ipython3",
   "version": "3.12.7"
  }
 },
 "nbformat": 4,
 "nbformat_minor": 2
}
